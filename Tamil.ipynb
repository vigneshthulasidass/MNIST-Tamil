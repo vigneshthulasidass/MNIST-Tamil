{
  "nbformat": 4,
  "nbformat_minor": 0,
  "metadata": {
    "colab": {
      "name": "Tamil.ipynb",
      "provenance": [],
      "authorship_tag": "ABX9TyOaYR1e9JFyyRma0xrO2HtE",
      "include_colab_link": true
    },
    "kernelspec": {
      "name": "python3",
      "display_name": "Python 3"
    },
    "accelerator": "GPU"
  },
  "cells": [
    {
      "cell_type": "markdown",
      "metadata": {
        "id": "view-in-github",
        "colab_type": "text"
      },
      "source": [
        "<a href=\"https://colab.research.google.com/github/vigneshthulasidass/MNIST-Tamil/blob/main/Tamil.ipynb\" target=\"_parent\"><img src=\"https://colab.research.google.com/assets/colab-badge.svg\" alt=\"Open In Colab\"/></a>"
      ]
    },
    {
      "cell_type": "markdown",
      "metadata": {
        "id": "-_BGIHvFuphH"
      },
      "source": [
        "**1. Abstract**\n",
        "\n",
        "\n",
        "---\n",
        "\n",
        "The focus of the project is to understand Convolutional Neural Network(CNN) as a beginner. A very easy way to explain and interpret a CNN is using classification model. In this project, we will be learning how CNN classifies Tamil digits, from 1 through 9\n",
        "\n",
        "This is a 5 layers Sequential Convolutional Neural Network for digits recognition trained on Kannada digits dataset. I have chosen to build it with keras API (Tensorflow backend) which is very intuitive. To ensure the model did not overfit, we used Keras callbacks"
      ]
    },
    {
      "cell_type": "markdown",
      "metadata": {
        "id": "eZndXek-vKMg"
      },
      "source": [
        ""
      ]
    }
  ]
}